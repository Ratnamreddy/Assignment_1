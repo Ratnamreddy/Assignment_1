{
  "nbformat": 4,
  "nbformat_minor": 0,
  "metadata": {
    "colab": {
      "provenance": [],
      "authorship_tag": "ABX9TyP+O9NUu+mCL8QH1lFblQWv",
      "include_colab_link": true
    },
    "kernelspec": {
      "name": "python3",
      "display_name": "Python 3"
    },
    "language_info": {
      "name": "python"
    }
  },
  "cells": [
    {
      "cell_type": "markdown",
      "metadata": {
        "id": "view-in-github",
        "colab_type": "text"
      },
      "source": [
        "<a href=\"https://colab.research.google.com/github/Ratnamreddy/Assignment_1/blob/main/Untitled0.ipynb\" target=\"_parent\"><img src=\"https://colab.research.google.com/assets/colab-badge.svg\" alt=\"Open In Colab\"/></a>"
      ]
    },
    {
      "cell_type": "code",
      "execution_count": null,
      "metadata": {
        "id": "l8exyDpO6bJF"
      },
      "outputs": [],
      "source": []
    },
    {
      "cell_type": "code",
      "source": [
        "from scipy.optimize import linprog\n",
        "\n",
        "# Coefficients of the objective function (profit)\n",
        "c = [-50, -120]  # We multiply by -1 because linprog minimizes, but we want to maximize\n",
        "\n",
        "# Coefficients of the constraints\n",
        "A = [\n",
        "    [1, 1],              # Land constraint: x + y = 110\n",
        "    [7000, 2000],        # Budget constraint: 7000x + 2000y <= 700000\n",
        "    [10, 30]             # Labor constraint: 10x + 30y <= 1200\n",
        "]\n",
        "\n",
        "# Right-hand side of the constraints\n",
        "b = [110, 700000, 1200]\n",
        "\n",
        "# Bounds for x and y (non-negative)\n",
        "x_bounds = (0, None)\n",
        "y_bounds = (0, None)\n",
        "\n",
        "# Solve the linear programming problem\n",
        "result = linprog(c, A_ub=A, b_ub=b, bounds=[x_bounds, y_bounds], method='highs')\n",
        "\n",
        "# Output the results\n",
        "if result.success:\n",
        "    print(f\"Optimal solution:\\nWheat (x) = {result.x[0]:.2f} hectares\\nBarley (y) = {result.x[1]:.2f} hectares\")\n",
        "    print(f\"Maximum Profit = { -result.fun:.2f} Rs\")\n",
        "else:\n",
        "    print(\"No feasible solution.\")\n"
      ],
      "metadata": {
        "colab": {
          "base_uri": "https://localhost:8080/"
        },
        "id": "O5b2jmxH6gZD",
        "outputId": "a2e167a0-7003-43d0-9df4-935df4a5b591"
      },
      "execution_count": 1,
      "outputs": [
        {
          "output_type": "stream",
          "name": "stdout",
          "text": [
            "Optimal solution:\n",
            "Wheat (x) = 97.89 hectares\n",
            "Barley (y) = 7.37 hectares\n",
            "Maximum Profit = 5778.95 Rs\n"
          ]
        }
      ]
    }
  ]
}